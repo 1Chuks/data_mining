{
 "cells": [
  {
   "cell_type": "markdown",
   "id": "eef108c5",
   "metadata": {},
   "source": [
    "# Car Models\n",
    "\n",
    "**Toyota** \n",
    "\n",
    "**BMW** \n",
    "\n",
    "**Ford**\n",
    "\n",
    "**Mercedes**\n",
    "\n",
    "# Why do I prefer those car models\n",
    "\n",
    "**Durability** \n",
    "\n",
    "**Less Petrol Consumption** \n",
    "\n",
    "**Speed Limit** \n"
   ]
  },
  {
   "cell_type": "code",
   "execution_count": 2,
   "id": "3228ef3f",
   "metadata": {},
   "outputs": [
    {
     "name": "stdout",
     "output_type": "stream",
     "text": [
      "I love BMW beacuse of it's durability\n"
     ]
    }
   ],
   "source": [
    "print(\"I love BMW beacuse of it's durability\")"
   ]
  },
  {
   "cell_type": "code",
   "execution_count": 1,
   "id": "4e5346cc",
   "metadata": {},
   "outputs": [
    {
     "data": {
      "text/plain": [
       "140"
      ]
     },
     "execution_count": 1,
     "metadata": {},
     "output_type": "execute_result"
    }
   ],
   "source": [
    "70 * 2 "
   ]
  },
  {
   "cell_type": "code",
   "execution_count": 3,
   "id": "589760a9",
   "metadata": {},
   "outputs": [],
   "source": [
    "import matplotlib.pyplot as plt\n",
    "import numpy as np\n",
    "%matplotlib inline"
   ]
  },
  {
   "cell_type": "code",
   "execution_count": 4,
   "id": "c5e2c6e4",
   "metadata": {},
   "outputs": [],
   "source": [
    "x=[5,10,15,20,25,30,35,40,45,50]\n",
    "y=[2,4,6,8,10,12,14,16,18,20]"
   ]
  },
  {
   "cell_type": "code",
   "execution_count": 6,
   "id": "02accd40",
   "metadata": {},
   "outputs": [
    {
     "data": {
      "text/plain": [
       "<matplotlib.legend.Legend at 0x7f170cf5aa20>"
      ]
     },
     "execution_count": 6,
     "metadata": {},
     "output_type": "execute_result"
    },
    {
     "data": {
      "image/png": "[encoded data removed]",
      "text/plain": [
       "<Figure size 432x288 with 1 Axes>"
      ]
     },
     "metadata": {
      "needs_background": "light"
     },
     "output_type": "display_data"
    }
   ],
   "source": [
    "num=plt.figure()\n",
    "co=num.add_axes([0,0,1,1])\n",
    "co.set_title('plot graph')\n",
    "\n",
    "co.set_xlabel('age')\n",
    "co.set_ylabel('gender')\n",
    "\n",
    "\n",
    "plt.plot(x,y,label='covid_cases')\n",
    "\n",
    "\n",
    "co.legend()\n",
    "\n"
   ]
  },
  {
   "cell_type": "code",
   "execution_count": null,
   "id": "44db10ab",
   "metadata": {},
   "outputs": [],
   "source": []
  }
 ],
 "metadata": {
  "kernelspec": {
   "display_name": "Python 3",
   "language": "python",
   "name": "python3"
  },
  "language_info": {
   "codemirror_mode": {
    "name": "ipython",
    "version": 3
   },
   "file_extension": ".py",
   "mimetype": "text/x-python",
   "name": "python",
   "nbconvert_exporter": "python",
   "pygments_lexer": "ipython3",
   "version": "3.6.15"
  }
 },
 "nbformat": 4,
 "nbformat_minor": 5
}
